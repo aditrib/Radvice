{
  "nbformat": 4,
  "nbformat_minor": 0,
  "metadata": {
    "colab": {
      "provenance": [],
      "gpuType": "T4",
      "authorship_tag": "ABX9TyPR6MsUb84/LGENIDqYMw2W",
      "include_colab_link": true
    },
    "kernelspec": {
      "name": "python3",
      "display_name": "Python 3"
    },
    "language_info": {
      "name": "python"
    },
    "accelerator": "GPU"
  },
  "cells": [
    {
      "cell_type": "markdown",
      "metadata": {
        "id": "view-in-github",
        "colab_type": "text"
      },
      "source": [
        "<a href=\"https://colab.research.google.com/github/aditrib/Radvice/blob/master/Untitled4.ipynb\" target=\"_parent\"><img src=\"https://colab.research.google.com/assets/colab-badge.svg\" alt=\"Open In Colab\"/></a>"
      ]
    },
    {
      "cell_type": "code",
      "execution_count": 1,
      "metadata": {
        "colab": {
          "base_uri": "https://localhost:8080/"
        },
        "id": "9N5on2oMWT2S",
        "outputId": "42eab20b-c36c-46cd-b0f7-f449e9ef2661"
      },
      "outputs": [
        {
          "output_type": "stream",
          "name": "stdout",
          "text": [
            "Collecting clean-fid\n",
            "  Downloading clean_fid-0.1.35-py3-none-any.whl (26 kB)\n",
            "Requirement already satisfied: torch in /usr/local/lib/python3.10/dist-packages (from clean-fid) (2.1.0+cu118)\n",
            "Requirement already satisfied: torchvision in /usr/local/lib/python3.10/dist-packages (from clean-fid) (0.16.0+cu118)\n",
            "Requirement already satisfied: numpy>=1.14.3 in /usr/local/lib/python3.10/dist-packages (from clean-fid) (1.23.5)\n",
            "Requirement already satisfied: scipy>=1.0.1 in /usr/local/lib/python3.10/dist-packages (from clean-fid) (1.11.4)\n",
            "Requirement already satisfied: tqdm>=4.28.1 in /usr/local/lib/python3.10/dist-packages (from clean-fid) (4.66.1)\n",
            "Requirement already satisfied: pillow>=8.1 in /usr/local/lib/python3.10/dist-packages (from clean-fid) (9.4.0)\n",
            "Requirement already satisfied: requests in /usr/local/lib/python3.10/dist-packages (from clean-fid) (2.31.0)\n",
            "Requirement already satisfied: charset-normalizer<4,>=2 in /usr/local/lib/python3.10/dist-packages (from requests->clean-fid) (3.3.2)\n",
            "Requirement already satisfied: idna<4,>=2.5 in /usr/local/lib/python3.10/dist-packages (from requests->clean-fid) (3.6)\n",
            "Requirement already satisfied: urllib3<3,>=1.21.1 in /usr/local/lib/python3.10/dist-packages (from requests->clean-fid) (2.0.7)\n",
            "Requirement already satisfied: certifi>=2017.4.17 in /usr/local/lib/python3.10/dist-packages (from requests->clean-fid) (2023.11.17)\n",
            "Requirement already satisfied: filelock in /usr/local/lib/python3.10/dist-packages (from torch->clean-fid) (3.13.1)\n",
            "Requirement already satisfied: typing-extensions in /usr/local/lib/python3.10/dist-packages (from torch->clean-fid) (4.5.0)\n",
            "Requirement already satisfied: sympy in /usr/local/lib/python3.10/dist-packages (from torch->clean-fid) (1.12)\n",
            "Requirement already satisfied: networkx in /usr/local/lib/python3.10/dist-packages (from torch->clean-fid) (3.2.1)\n",
            "Requirement already satisfied: jinja2 in /usr/local/lib/python3.10/dist-packages (from torch->clean-fid) (3.1.2)\n",
            "Requirement already satisfied: fsspec in /usr/local/lib/python3.10/dist-packages (from torch->clean-fid) (2023.6.0)\n",
            "Requirement already satisfied: triton==2.1.0 in /usr/local/lib/python3.10/dist-packages (from torch->clean-fid) (2.1.0)\n",
            "Requirement already satisfied: MarkupSafe>=2.0 in /usr/local/lib/python3.10/dist-packages (from jinja2->torch->clean-fid) (2.1.3)\n",
            "Requirement already satisfied: mpmath>=0.19 in /usr/local/lib/python3.10/dist-packages (from sympy->torch->clean-fid) (1.3.0)\n",
            "Installing collected packages: clean-fid\n",
            "Successfully installed clean-fid-0.1.35\n"
          ]
        }
      ],
      "source": [
        "pip install clean-fid"
      ]
    },
    {
      "cell_type": "code",
      "source": [
        "from cleanfid import fid\n",
        "real_image_dir = '/content/Age55.zip'  # Replace with your path to real images\n",
        "generated_image_dir = '/content/Age80.zip'  # Replace with your path to generated images\n",
        "\n",
        "real_image_unzipped = '/content/Age55Real'\n",
        "generated_image_unzipped = '/content/Age80Gen'\n",
        "\n",
        "!unzip '/content/Age55.zip' -d '/content/Age55Real'\n",
        "!unzip '/content/Age80.zip' -d '/content/Age80Gen'\n",
        "score = fid.compute_kid('/content/Age55Real', '/content/Age80Gen')\n",
        "print(score)"
      ],
      "metadata": {
        "colab": {
          "base_uri": "https://localhost:8080/"
        },
        "id": "XrfZi3DvWi8j",
        "outputId": "2d0d2c5d-8125-4241-b18d-146f40ba01c8"
      },
      "execution_count": 2,
      "outputs": [
        {
          "output_type": "stream",
          "name": "stdout",
          "text": [
            "Archive:  /content/Age55.zip\n",
            "   creating: /content/Age55Real/Age55/\n",
            "  inflating: /content/Age55Real/Age55/ADNI_053_S_0507_MR_MPR____N3__Scaled_Br_20070927074706802_S15256_I75459_55_output-slice135.jpg  \n",
            "  inflating: /content/Age55Real/__MACOSX/Age55/._ADNI_053_S_0507_MR_MPR____N3__Scaled_Br_20070927074706802_S15256_I75459_55_output-slice135.jpg  \n",
            "  inflating: /content/Age55Real/Age55/ADNI_053_S_0507_MR_MPR____N3__Scaled_2_Br_20081003140851627_S15256_I119146_55_output-slice117.jpg  \n",
            "  inflating: /content/Age55Real/__MACOSX/Age55/._ADNI_053_S_0507_MR_MPR____N3__Scaled_2_Br_20081003140851627_S15256_I119146_55_output-slice117.jpg  \n",
            "  inflating: /content/Age55Real/Age55/ADNI_053_S_0507_MR_MPR____N3__Scaled_2_Br_20081003140851627_S15256_I119146_55_output-slice091.jpg  \n",
            "  inflating: /content/Age55Real/__MACOSX/Age55/._ADNI_053_S_0507_MR_MPR____N3__Scaled_2_Br_20081003140851627_S15256_I119146_55_output-slice091.jpg  \n",
            "  inflating: /content/Age55Real/Age55/ADNI_053_S_0507_MR_MPR____N3__Scaled_2_Br_20081003140851627_S15256_I119146_55_output-slice153.jpg  \n",
            "  inflating: /content/Age55Real/__MACOSX/Age55/._ADNI_053_S_0507_MR_MPR____N3__Scaled_2_Br_20081003140851627_S15256_I119146_55_output-slice153.jpg  \n",
            "Archive:  /content/Age80.zip\n",
            "   creating: /content/Age80Gen/Age80/\n",
            "  inflating: /content/Age80Gen/Age80/ADNI_023_S_0030_MR_MPR__GradWarp__B1_Correction__N3__Scaled_2_Br_20081001135554720_S8908_I118790_80_output-slice112.jpg  \n",
            "  inflating: /content/Age80Gen/__MACOSX/Age80/._ADNI_023_S_0030_MR_MPR__GradWarp__B1_Correction__N3__Scaled_2_Br_20081001135554720_S8908_I118790_80_output-slice112.jpg  \n",
            "  inflating: /content/Age80Gen/Age80/ADNI_023_S_0030_MR_MPR__GradWarp__B1_Correction__N3__Scaled_2_Br_20081001135554720_S8908_I118790_80_output-slice071.jpg  \n",
            "  inflating: /content/Age80Gen/__MACOSX/Age80/._ADNI_023_S_0030_MR_MPR__GradWarp__B1_Correction__N3__Scaled_2_Br_20081001135554720_S8908_I118790_80_output-slice071.jpg  \n",
            "  inflating: /content/Age80Gen/Age80/ADNI_023_S_0030_MR_MPR__GradWarp__B1_Correction__N3__Scaled_2_Br_20081001135554720_S8908_I118790_80_output-slice064.jpg  \n",
            "  inflating: /content/Age80Gen/__MACOSX/Age80/._ADNI_023_S_0030_MR_MPR__GradWarp__B1_Correction__N3__Scaled_2_Br_20081001135554720_S8908_I118790_80_output-slice064.jpg  \n",
            "  inflating: /content/Age80Gen/Age80/ADNI_023_S_0030_MR_MPR__GradWarp__B1_Correction__N3__Scaled_2_Br_20081001135554720_S8908_I118790_80_output-slice092.jpg  \n",
            "  inflating: /content/Age80Gen/__MACOSX/Age80/._ADNI_023_S_0030_MR_MPR__GradWarp__B1_Correction__N3__Scaled_2_Br_20081001135554720_S8908_I118790_80_output-slice092.jpg  \n"
          ]
        },
        {
          "output_type": "stream",
          "name": "stderr",
          "text": [
            "/usr/local/lib/python3.10/dist-packages/torch/utils/data/dataloader.py:557: UserWarning: This DataLoader will create 12 worker processes in total. Our suggested max number of worker in current system is 2, which is smaller than what this DataLoader is going to create. Please be aware that excessive worker creation might get DataLoader running slow or even freeze, lower the worker number to avoid potential slowness/freeze if necessary.\n",
            "  warnings.warn(_create_warning_msg(\n"
          ]
        },
        {
          "output_type": "stream",
          "name": "stdout",
          "text": [
            "compute KID between two folders\n",
            "Found 4 images in the folder /content/Age55Real\n"
          ]
        },
        {
          "output_type": "stream",
          "name": "stderr",
          "text": [
            "KID Age55Real : 100%|██████████| 1/1 [00:01<00:00,  1.65s/it]\n"
          ]
        },
        {
          "output_type": "stream",
          "name": "stdout",
          "text": [
            "Found 4 images in the folder /content/Age80Gen\n"
          ]
        },
        {
          "output_type": "stream",
          "name": "stderr",
          "text": [
            "KID Age80Gen : 100%|██████████| 1/1 [00:11<00:00, 11.40s/it]\n"
          ]
        },
        {
          "output_type": "stream",
          "name": "stdout",
          "text": [
            "0.1262861196200053\n"
          ]
        }
      ]
    }
  ]
}